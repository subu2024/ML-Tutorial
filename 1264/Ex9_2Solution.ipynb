{
 "cells": [
  {
   "cell_type": "markdown",
   "metadata": {},
   "source": [
    "# Hands-On Exercise 9.2:\n",
    "# Analyzing Social Networks\n",
    "***"
   ]
  },
  {
   "cell_type": "markdown",
   "metadata": {},
   "source": [
    "## Objectives\n",
    "\n",
    "#### In this exercise, you will work with and examine network data using social network analysis. This exercise allows you to run various metrics on the graph object. The goal is to show you how to uncover patterns in interactions and relationships to improve, optimise, or negate the effects of those networks.\n",
    "\n",
    "### Overview\n",
    "\n",
    "In this exercise you will:<br><br>\n",
    "•\tAnalyze the graph from an ego-centric point of view<br>\n",
    "•\tAnalyze the graph from a socio-centric point of view<br><br>\n",
    "\n",
    "**Pre-step: Execute the following cell in order to suppress warning messages**"
   ]
  },
  {
   "cell_type": "code",
   "execution_count": null,
   "metadata": {},
   "outputs": [],
   "source": [
    "import warnings\n",
    "warnings.filterwarnings(\"ignore\")"
   ]
  },
  {
   "cell_type": "markdown",
   "metadata": {},
   "source": [
    "1. ❏ Import the **networkx, pandas and matplotlib.pyplot** packages"
   ]
  },
  {
   "cell_type": "code",
   "execution_count": null,
   "metadata": {},
   "outputs": [],
   "source": [
    "import networkx as nx\n",
    "import pandas as pd\n",
    "import matplotlib.pyplot as plt"
   ]
  },
  {
   "cell_type": "markdown",
   "metadata": {},
   "source": [
    "2. ❏  Load the **lesmis.gml** graph"
   ]
  },
  {
   "cell_type": "code",
   "execution_count": null,
   "metadata": {},
   "outputs": [],
   "source": [
    "les_mis=nx.read_gml(\"lesmis.gml\")"
   ]
  },
  {
   "cell_type": "markdown",
   "metadata": {},
   "source": [
    "3. ❏ Calculate the **degree centrality** of the graph and visualize the node sizes accordingly"
   ]
  },
  {
   "cell_type": "code",
   "execution_count": null,
   "metadata": {},
   "outputs": [],
   "source": [
    "d = dict(nx.degree_centrality(les_mis))\n",
    "nx.draw(les_mis, with_labels = True, nodelist=d.keys(), node_size=[v * 500 for v in d.values()])"
   ]
  },
  {
   "cell_type": "markdown",
   "metadata": {},
   "source": [
    "4. ❏ Calculate the **closeness centrality** of the graph and visualize the node sizes accordingly"
   ]
  },
  {
   "cell_type": "code",
   "execution_count": null,
   "metadata": {},
   "outputs": [],
   "source": [
    "d = dict(nx.closeness_centrality(les_mis))\n",
    "nx.draw(les_mis, with_labels = True, nodelist=d.keys(), node_size=[v * 500 for v in d.values()])"
   ]
  },
  {
   "cell_type": "markdown",
   "metadata": {},
   "source": [
    "5. ❏ Calculate the **betweenness centrality** of the graph and visualize the node sizes accordingly"
   ]
  },
  {
   "cell_type": "code",
   "execution_count": null,
   "metadata": {},
   "outputs": [],
   "source": [
    "d = dict(nx.betweenness_centrality(les_mis))\n",
    "nx.draw(les_mis, with_labels = True, nodelist=d.keys(), node_size=[v * 500 for v in d.values()])"
   ]
  },
  {
   "cell_type": "markdown",
   "metadata": {},
   "source": [
    "6. ❏ Calculate the **eigenvector centrality** of the graph and visualize the node sizes accordingly"
   ]
  },
  {
   "cell_type": "code",
   "execution_count": null,
   "metadata": {},
   "outputs": [],
   "source": [
    "d = dict(nx.eigenvector_centrality(les_mis))\n",
    "nx.draw(les_mis, with_labels = True, nodelist=d.keys(), node_size=[v * 500 for v in d.values()])"
   ]
  },
  {
   "cell_type": "markdown",
   "metadata": {},
   "source": [
    "7. ❏ Plot the **ego graph** of the character *Cosette* using a spring layout for the nodes"
   ]
  },
  {
   "cell_type": "code",
   "execution_count": null,
   "metadata": {},
   "outputs": [],
   "source": [
    "ego_g = nx.ego_graph(les_mis, 'Cosette')\n",
    "pos = nx.spring_layout(ego_g)\n",
    "nx.draw(ego_g, pos, node_color='red', node_size=500, with_labels = True)"
   ]
  },
  {
   "cell_type": "markdown",
   "metadata": {},
   "source": [
    "8. ❏ Show the **shortest path** between the characters *Cosette* and *Jondrette* using the **shortest_path()** function"
   ]
  },
  {
   "cell_type": "code",
   "execution_count": null,
   "metadata": {},
   "outputs": [],
   "source": [
    "print(nx.shortest_path(les_mis,'Cosette','Jondrette'))"
   ]
  },
  {
   "cell_type": "markdown",
   "metadata": {},
   "source": [
    "9. ❏ Re-run this code from the previous exercise to create the G_media graph in this notebook"
   ]
  },
  {
   "cell_type": "code",
   "execution_count": null,
   "metadata": {},
   "outputs": [],
   "source": [
    "G_media = nx.read_edgelist('SNADataset1_links.csv', delimiter = ',', create_using = nx.Graph(), nodetype=str, data=[('type',str),('weight',float)])\n",
    "\n",
    "import pandas as pd\n",
    "nodeData = pd.read_csv('SNADataset1_nodes.csv', index_col=0)\n",
    "nx.set_node_attributes(G_media, nodeData.to_dict('index'))\n",
    "node_labels = nx.get_node_attributes(G_media,'media')"
   ]
  },
  {
   "cell_type": "markdown",
   "metadata": {},
   "source": [
    "10. ❏ List the **cliques** within the *G_media* graph"
   ]
  },
  {
   "cell_type": "code",
   "execution_count": null,
   "metadata": {},
   "outputs": [],
   "source": [
    "list(nx.find_cliques(G_media))"
   ]
  },
  {
   "cell_type": "markdown",
   "metadata": {},
   "source": [
    "11. ❏ Draw the biggest clique in the graph"
   ]
  },
  {
   "cell_type": "code",
   "execution_count": null,
   "metadata": {},
   "outputs": [],
   "source": [
    "nx.draw(nx.make_max_clique_graph(G_media), with_labels = True)"
   ]
  },
  {
   "cell_type": "markdown",
   "metadata": {},
   "source": [
    "12. ❏ List the **degree** values for each node in G_media"
   ]
  },
  {
   "cell_type": "code",
   "execution_count": null,
   "metadata": {},
   "outputs": [],
   "source": [
    "list(nx.degree(G_media))"
   ]
  },
  {
   "cell_type": "markdown",
   "metadata": {},
   "source": [
    "13. ❏ Plot a histogram of the node degrees"
   ]
  },
  {
   "cell_type": "code",
   "execution_count": null,
   "metadata": {},
   "outputs": [],
   "source": [
    "nx.degree_histogram(G_media)\n",
    "plt.hist(list(dict(nx.degree(G_media)).values()))"
   ]
  },
  {
   "cell_type": "markdown",
   "metadata": {},
   "source": [
    "14. ❏ What is the **density** value of G_media"
   ]
  },
  {
   "cell_type": "code",
   "execution_count": null,
   "metadata": {},
   "outputs": [],
   "source": [
    "nx.density(G_media)"
   ]
  },
  {
   "cell_type": "markdown",
   "metadata": {},
   "source": [
    "15. ❏ Calculate the **hub** and **authority** scores for the nodes in G_media"
   ]
  },
  {
   "cell_type": "code",
   "execution_count": null,
   "metadata": {},
   "outputs": [],
   "source": [
    "h,a = nx.hits(G_media)\n",
    "h"
   ]
  },
  {
   "cell_type": "code",
   "execution_count": null,
   "metadata": {},
   "outputs": [],
   "source": [
    "a"
   ]
  },
  {
   "cell_type": "markdown",
   "metadata": {},
   "source": [
    "## <center>**Congratulations! You have successfully analyzed graphs in Python.**</center>"
   ]
  },
  {
   "attachments": {
    "image.png": {
     "image/png": "[encoded data removed]"
    }
   },
   "cell_type": "markdown",
   "metadata": {},
   "source": [
    "![image.png](attachment:image.png)"
   ]
  },
  {
   "cell_type": "markdown",
   "metadata": {},
   "source": [
    "# <center>**This is the end of the exercise.**</center>"
   ]
  }
 ],
 "metadata": {
  "kernelspec": {
   "display_name": "Python 3",
   "language": "python",
   "name": "python3"
  },
  "language_info": {
   "codemirror_mode": {
    "name": "ipython",
    "version": 3
   },
   "file_extension": ".py",
   "mimetype": "text/x-python",
   "name": "python",
   "nbconvert_exporter": "python",
   "pygments_lexer": "ipython3",
   "version": "3.7.4"
  }
 },
 "nbformat": 4,
 "nbformat_minor": 2
}
