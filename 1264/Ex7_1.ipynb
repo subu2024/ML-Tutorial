{
 "cells": [
  {
   "cell_type": "markdown",
   "metadata": {},
   "source": [
    "# Hands-On Exercise 7.1:\n",
    "# Cluster Analysis on Structured Data With Python\n",
    "***"
   ]
  },
  {
   "cell_type": "markdown",
   "metadata": {},
   "source": [
    "## Objectives\n",
    "\n",
    "#### In this exercise, you will perform cluster analysis on structured data using Python. This exercise allows you to find natural grouping within the data set using a number of attributes and distance measures. The goal is to show you how clustering can be used to divide a data set into previously unknown groupings.\n",
    "\n",
    "### Overview\n",
    "\n",
    "You will work on a data set called Iris that is included with the datasets package. You will:<br>\n",
    "● Assess what might be an appropraite number of clusters<br>\n",
    "● Cluster the data using a distance measure<br>\n",
    "● Evaluate the resulting clusters<br><br>\n",
    "\n",
    "\n",
    "**Major Step: Data loading and text preprocessing**\n",
    "\n",
    "1. ❏ Import the **pandas** and **numpy** libraries<br><br>\n",
    "*Hint: Use pd and np as aliases*"
   ]
  },
  {
   "cell_type": "code",
   "execution_count": null,
   "metadata": {},
   "outputs": [],
   "source": []
  },
  {
   "cell_type": "markdown",
   "metadata": {},
   "source": [
    "2. ❏ Import **cluster** from **sklearn**"
   ]
  },
  {
   "cell_type": "code",
   "execution_count": null,
   "metadata": {},
   "outputs": [],
   "source": []
  },
  {
   "cell_type": "markdown",
   "metadata": {},
   "source": [
    "3. ❏ Import the **iris** data set from the **iris.csv** file and preview the first few rows using the **.head()** method"
   ]
  },
  {
   "cell_type": "code",
   "execution_count": null,
   "metadata": {},
   "outputs": [],
   "source": []
  },
  {
   "cell_type": "markdown",
   "metadata": {},
   "source": [
    "4. ❏ Remove the species attribute and convert it to a numpy array <br>"
   ]
  },
  {
   "cell_type": "code",
   "execution_count": null,
   "metadata": {},
   "outputs": [],
   "source": []
  },
  {
   "cell_type": "markdown",
   "metadata": {},
   "source": [
    "5. ❏ Apply clustering to the data using K-Means with a clustering value of 3."
   ]
  },
  {
   "cell_type": "code",
   "execution_count": null,
   "metadata": {},
   "outputs": [],
   "source": []
  },
  {
   "cell_type": "markdown",
   "metadata": {},
   "source": [
    "6. ❏ View the assigned labels using the **.labels_** attribute"
   ]
  },
  {
   "cell_type": "code",
   "execution_count": null,
   "metadata": {},
   "outputs": [],
   "source": []
  },
  {
   "cell_type": "markdown",
   "metadata": {},
   "source": [
    "7. ❏ View the cluster centers using the **.cluster_centers_** attribute"
   ]
  },
  {
   "cell_type": "code",
   "execution_count": null,
   "metadata": {},
   "outputs": [],
   "source": []
  },
  {
   "cell_type": "markdown",
   "metadata": {},
   "source": [
    "8. ❏ Import **pyplot** from **matplotlib**"
   ]
  },
  {
   "cell_type": "code",
   "execution_count": null,
   "metadata": {},
   "outputs": [],
   "source": []
  },
  {
   "cell_type": "markdown",
   "metadata": {},
   "source": [
    "9. ❏ Plot the three clusters, using two attributes at a time (eg. 0 and 1) and plot the centroids of the three clusters"
   ]
  },
  {
   "cell_type": "code",
   "execution_count": null,
   "metadata": {},
   "outputs": [],
   "source": []
  },
  {
   "cell_type": "markdown",
   "metadata": {},
   "source": [
    "10. ❏ Import the **dendrogram** and **linkage** functions from **scipy.cluster.hierarchy**"
   ]
  },
  {
   "cell_type": "code",
   "execution_count": null,
   "metadata": {},
   "outputs": [],
   "source": []
  },
  {
   "cell_type": "markdown",
   "metadata": {},
   "source": [
    "11. ❏ Using a **ward** agglomeration technique, build a dendrogram to visualize the clusters hierarchically"
   ]
  },
  {
   "cell_type": "code",
   "execution_count": null,
   "metadata": {},
   "outputs": [],
   "source": []
  },
  {
   "cell_type": "markdown",
   "metadata": {},
   "source": [
    "12. ❏ How many natural clusters do you think there are?"
   ]
  },
  {
   "attachments": {
    "image.png": {
     "image/png": "[encoded data removed]"
    }
   },
   "cell_type": "markdown",
   "metadata": {},
   "source": [
    "![image.png](attachment:image.png)<br><br>\n",
    "\n",
    "**If you have time, you may like to examine and run the demo code below which uses the KMeans Clustering Algorithm to segment an image. Image Segmentation is the process of assigning a label to every pixel in an image. Segmentation is used in object detection, medical imaging, facial recognition and many other applications.**<br><br>"
   ]
  },
  {
   "cell_type": "markdown",
   "metadata": {},
   "source": [
    "13. ❏ Import packages and image"
   ]
  },
  {
   "cell_type": "code",
   "execution_count": null,
   "metadata": {},
   "outputs": [],
   "source": [
    "import numpy as np\n",
    "import cv2\n",
    "import matplotlib.pyplot as plt\n",
    "original_image = cv2.imread(\"Nature.jpg\")\n",
    "original_image.shape"
   ]
  },
  {
   "cell_type": "markdown",
   "metadata": {},
   "source": [
    "14. ❏ Pre-process the image"
   ]
  },
  {
   "cell_type": "code",
   "execution_count": null,
   "metadata": {},
   "outputs": [],
   "source": [
    "img=cv2.cvtColor(original_image,cv2.COLOR_BGR2RGB) # convert image to RGB color for matplotlib\n",
    "vectorized = img.reshape((-1,3))  # vectorize the image\n",
    "vectorized = np.float32(vectorized)          # and convert to float32 (required for kmeans)"
   ]
  },
  {
   "cell_type": "markdown",
   "metadata": {},
   "source": [
    "15. ❏ Cluster the colors using OpenCV's **kmeans** algorithm<br>\n",
    "Documentation: https://docs.opencv.org/2.4/modules/core/doc/clustering.html"
   ]
  },
  {
   "cell_type": "code",
   "execution_count": null,
   "metadata": {},
   "outputs": [],
   "source": [
    "criteria = (cv2.TERM_CRITERIA_EPS + cv2.TERM_CRITERIA_MAX_ITER, 10, 1.0)\n",
    "K = 4          # No. of clusters to find\n",
    "attempts=10    # No. of times to iterate through the algorithm\n",
    "ret,label,center=cv2.kmeans(vectorized,K,None,criteria,attempts,cv2.KMEANS_PP_CENTERS)"
   ]
  },
  {
   "cell_type": "markdown",
   "metadata": {},
   "source": [
    "16. ❏ Regenerate the clustered image"
   ]
  },
  {
   "cell_type": "code",
   "execution_count": null,
   "metadata": {},
   "outputs": [],
   "source": [
    "center = np.uint8(center)   # Convert back into uint8\n",
    "res = center[label.flatten()]   # Access the labels to regenerate the clustered image\n",
    "seg_image = res.reshape((img.shape))   # Clustered image"
   ]
  },
  {
   "cell_type": "markdown",
   "metadata": {},
   "source": [
    "17. ❏ Display the original image and the segmented image"
   ]
  },
  {
   "cell_type": "code",
   "execution_count": null,
   "metadata": {},
   "outputs": [],
   "source": [
    "plt.figure(figsize=(12,12))\n",
    "plt.subplot(1,2,1),plt.imshow(img)\n",
    "plt.title('Original Image')\n",
    "plt.subplot(1,2,2),plt.imshow(seg_image)\n",
    "plt.title('Segmented image when K is %x' % K)\n",
    "plt.show()"
   ]
  },
  {
   "cell_type": "markdown",
   "metadata": {},
   "source": [
    "## <center>**Congratulations! You have successfully performed clustering analysis on structured and unstructured data in Python.**</center>"
   ]
  },
  {
   "attachments": {
    "image.png": {
     "image/png": "[encoded data removed]"
    }
   },
   "cell_type": "markdown",
   "metadata": {},
   "source": [
    "![image.png](attachment:image.png)"
   ]
  },
  {
   "cell_type": "markdown",
   "metadata": {},
   "source": [
    "# <center>**This is the end of the exercise.**</center>"
   ]
  }
 ],
 "metadata": {
  "kernelspec": {
   "display_name": "Python 3",
   "language": "python",
   "name": "python3"
  },
  "language_info": {
   "codemirror_mode": {
    "name": "ipython",
    "version": 3
   },
   "file_extension": ".py",
   "mimetype": "text/x-python",
   "name": "python",
   "nbconvert_exporter": "python",
   "pygments_lexer": "ipython3",
   "version": "3.6.4"
  }
 },
 "nbformat": 4,
 "nbformat_minor": 2
}
